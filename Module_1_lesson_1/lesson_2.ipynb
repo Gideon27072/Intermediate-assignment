{
 "cells": [
  {
   "cell_type": "code",
   "execution_count": 6,
   "metadata": {},
   "outputs": [
    {
     "name": "stdout",
     "output_type": "stream",
     "text": [
      "Bu... Bu... Bulo?\n"
     ]
    }
   ],
   "source": [
    "#function that repeats the first 2 letters of a word \n",
    "def stutern(Bulo):\n",
    "    return(\"Bulo\"[0:2] + '... ')*2 + \"Bulo\"+ \"?\"\n",
    "\n",
    "print((\"Bulo\"[0:2] + '... ')*2 + \"Bulo\"+\"?\")\n"
   ]
  },
  {
   "cell_type": "code",
   "execution_count": 12,
   "metadata": {},
   "outputs": [
    {
     "data": {
      "text/plain": [
       "'i'"
      ]
     },
     "execution_count": 12,
     "metadata": {},
     "output_type": "execute_result"
    }
   ],
   "source": [
    "#performing a for loop\n",
    "def vowels (Y):\n",
    "    for i in Y:\n",
    "        if i in \"aeiou\":\n",
    "            return i\n",
    "            \n",
    "\n",
    "vowels('Gideon') "
   ]
  }
 ],
 "metadata": {
  "kernelspec": {
   "display_name": "Python 3.10.6 64-bit",
   "language": "python",
   "name": "python3"
  },
  "language_info": {
   "codemirror_mode": {
    "name": "ipython",
    "version": 3
   },
   "file_extension": ".py",
   "mimetype": "text/x-python",
   "name": "python",
   "nbconvert_exporter": "python",
   "pygments_lexer": "ipython3",
   "version": "3.10.6"
  },
  "orig_nbformat": 4,
  "vscode": {
   "interpreter": {
    "hash": "b00c71c3385904d38907326321bc6ca9930b9cd405025156e2f0e2cd3cac88e4"
   }
  }
 },
 "nbformat": 4,
 "nbformat_minor": 2
}
